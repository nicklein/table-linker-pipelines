{
 "cells": [
  {
   "cell_type": "code",
   "execution_count": 2,
   "metadata": {},
   "outputs": [],
   "source": [
    "#Import \n",
    "import glob\n",
    "import time\n",
    "import os\n",
    "import pandas as pd\n",
    "import sklearn.metrics\n",
    "from sklearn.preprocessing import MinMaxScaler\n",
    "import pickle\n",
    "from argparse import ArgumentParser, Namespace\n",
    "import random\n",
    "import torch\n",
    "import torch.nn as nn\n",
    "import torch.nn.functional as F\n",
    "import numpy as np\n",
    "from torch.utils.data import Dataset, DataLoader\n",
    "from torch.optim import Adam\n",
    "from itertools import chain\n",
    "from tqdm import tqdm"
   ]
  },
  {
   "cell_type": "markdown",
   "metadata": {},
   "source": [
    "I assume that the candidate generation and feature genration has already be run on the training and dev tables"
   ]
  },
  {
   "cell_type": "code",
   "execution_count": 266,
   "metadata": {},
   "outputs": [],
   "source": [
    "##File paths\n",
    "\n",
    "# working_path = os.path.abspath('../../contrastive_loss_nn_data')\n",
    "# working_path = os.path.abspath('../../contrastive_loss_nn_w_embedding_scores')\n",
    "# working_path = os.path.abspath('../../contrastive_loss_nn_w_embedding_scores_8_12_21')\n",
    "working_path = os.path.abspath('../../contrastive_loss_nn_embed_scores_and_values_8_16_21')\n",
    "# working_path = os.path.abspath('../../contrastive_loss_nn_data_25-75_centroid_folds')\n",
    "\n",
    "#GDrive Path: /table-linker-datasets/2019-iswc_challenge_data/t2dv2/canonical-with-context/contrastive_loss_nn_data/t2dv2-train-lof-original-tfidf\n",
    "# train_path = f'{working_path}/t2dv2-train-lof-original-tfidf/'\n",
    "# train_path = f'{working_path}/t2dv2-train-lof-original-tfidf-HAS/'\n",
    "train_path = f'{working_path}/t2dv2-train-lof-embed_scores_and_values/'\n",
    "# train_path = f'{working_path}/t2dv2-train-lof-original-tfidf_25-75/fold_2/evaluation_rows/'\n",
    "\n",
    "#GDrive Path: /table-linker-datasets/2019-iswc_challenge_data/t2dv2/canonical-with-context/contrastive_loss_nn_data/t2dv2-dev-lof-original-tfidf\n",
    "# dev_path = f'{working_path}/t2dv2-dev-lof-original-tfidf/'\n",
    "# dev_path = f'{working_path}/t2dv2-dev-lof-original-tfidf-HAS/'\n",
    "dev_path = f'{working_path}/t2dv2-dev-lof-embed_scores_and_values/'\n",
    "# dev_path = f'{working_path}/sample-t2dv2-train-lof-embed_scores_and_values/'\n",
    "# dev_path = f'{working_path}/t2dv2-dev-lof-original-tfidf_25-75/fold_2/evaluation_rows/'\n",
    "\n",
    "#Note: One would need just the train_path and dev_path to run this notebook. The below files are output after \n",
    "# running the notebook.\n",
    "\n",
    "#GDrive Path: /table-linker-datasets/2019-iswc_challenge_data/t2dv2/canonical-with-context/contrastive_loss_nn_data/training_data/pos_features.pkl\n",
    "pos_output = f'{working_path}/training_data/pos_features.pkl'\n",
    "#GDrive Path: /table-linker-datasets/2019-iswc_challenge_data/t2dv2/canonical-with-context/contrastive_loss_nn_data/training_data/neg_features.pkl\n",
    "neg_output = f'{working_path}/training_data/neg_features.pkl'\n",
    "#GDrive Path: /table-linker-datasets/2019-iswc_challenge_data/t2dv2/canonical-with-context/contrastive_loss_nn_data/training_data/normalization_factor.pkl\n",
    "min_max_scaler_path = f'{working_path}/training_data/normalization_factor.pkl'\n",
    "dev_output_predictions = f'{working_path}/dev_predictions/'\n",
    "#GDrive Path: /table-linker-datasets/2019-iswc_challenge_data/t2dv2/canonical-with-context/contrastive_loss_nn_data/saved_models\n",
    "model_save_path = f'{working_path}/saved_models/'"
   ]
  },
  {
   "cell_type": "code",
   "execution_count": 267,
   "metadata": {},
   "outputs": [],
   "source": [
    "!mkdir -p {dev_output_predictions}\n",
    "!mkdir -p {model_save_path}\n",
    "!mkdir -p {working_path}/training_data"
   ]
  },
  {
   "cell_type": "markdown",
   "metadata": {},
   "source": [
    "## Specify train features\n",
    "The features you specify must be present as columns in the files found in the above specified train / dev paths"
   ]
  },
  {
   "cell_type": "code",
   "execution_count": 268,
   "metadata": {},
   "outputs": [],
   "source": [
    "# original\n",
    "# train_features = ['pagerank','retrieval_score','monge_elkan','des_cont_jaccard',\n",
    "#         'jaro_winkler','levenshtein','singleton','is_lof','num_char','num_tokens',\n",
    "#        'lof_class_count_tf_idf_score', 'lof_property_count_tf_idf_score',\n",
    "#        'lof-graph-embedding-score', 'lof-reciprocal-rank']\n",
    "\n",
    "# original plus eval label\n",
    "# train_features = ['pagerank','retrieval_score','monge_elkan','des_cont_jaccard',\n",
    "#         'jaro_winkler','levenshtein','singleton','is_lof','num_char','num_tokens',\n",
    "#        'lof_class_count_tf_idf_score', 'lof_property_count_tf_idf_score',\n",
    "#        'lof-graph-embedding-score', 'lof-reciprocal-rank',\n",
    "#                   'evaluation_label_copy']\n",
    "\n",
    "# original plus h, a, s embedding scores (lof-centroid)\n",
    "# train_features = ['pagerank','retrieval_score','monge_elkan','des_cont_jaccard',\n",
    "#         'jaro_winkler','levenshtein','singleton','is_lof','num_char','num_tokens',\n",
    "#        'lof_class_count_tf_idf_score', 'lof_property_count_tf_idf_score',\n",
    "#        'lof-graph-embedding-score', 'lof-reciprocal-rank',\n",
    "#             'lof-H_5x8-embedding-score', 'lof-A-embedding-score', 'lof-S-embedding-score']\n",
    "\n",
    "# original plus Profile-ComplEx embedding scores (lof-centroid)\n",
    "# train_features = ['pagerank','retrieval_score','monge_elkan','des_cont_jaccard',\n",
    "#         'jaro_winkler','levenshtein','singleton','is_lof','num_char','num_tokens',\n",
    "#        'lof_class_count_tf_idf_score', 'lof_property_count_tf_idf_score',\n",
    "#        'lof-graph-embedding-score', 'lof-reciprocal-rank',\n",
    "#                  'lof-Profile-ComplEx-embedding-score']\n",
    "\n",
    "# original plus Profile-ComplEx embedding scores (lof-centroid) minus other embeddings\n",
    "# train_features = ['pagerank','retrieval_score','monge_elkan','des_cont_jaccard',\n",
    "#                   'jaro_winkler','levenshtein','singleton','is_lof','num_char','num_tokens',\n",
    "#                   'lof_class_count_tf_idf_score', 'lof_property_count_tf_idf_score', 'lof-reciprocal-rank',\n",
    "#                   'lof-Profile-ComplEx-embedding-score']\n",
    "\n",
    "# original minus other embeddings\n",
    "# train_features = ['pagerank','retrieval_score','monge_elkan','des_cont_jaccard',\n",
    "#                   'jaro_winkler','levenshtein','singleton','is_lof','num_char','num_tokens',\n",
    "#                   'lof_class_count_tf_idf_score', 'lof_property_count_tf_idf_score', 'lof-reciprocal-rank']\n",
    "\n",
    "# original \"standard\" features\n",
    "# train_features = ['pagerank','retrieval_score','monge_elkan','jaro_winkler','levenshtein']\n",
    "\n",
    "# original \"standard\" features + profile-ComplEx embedding scores\n",
    "# train_features = ['pagerank','retrieval_score','monge_elkan','jaro_winkler','levenshtein',\n",
    "#                   'Profile-ComplEx-embedding-score']\n",
    "\n",
    "# original \"standard\" + Profile-ComplEx embedding *values*\n",
    "train_features = ['pagerank','retrieval_score','monge_elkan','jaro_winkler','levenshtein']\n",
    "#TODO - make this neater, no magic numbers\n",
    "train_features.extend([f\"cand-Profile-ComplEx-emb-dim-{i}\" for i in range(100)])\n",
    "train_features.extend([f\"centroid-Profile-ComplEx-emb-dim-{i}\" for i in range(100)])\n",
    "\n",
    "\n",
    "features_including_eval_label = train_features if 'evaluation_label' in train_features else train_features + ['evaluation_label']\n"
   ]
  },
  {
   "cell_type": "markdown",
   "metadata": {},
   "source": [
    "### Generate Training Data"
   ]
  },
  {
   "cell_type": "code",
   "execution_count": 269,
   "metadata": {},
   "outputs": [],
   "source": [
    "def merge_files(args):\n",
    "    datapath = args.train_path\n",
    "    eval_file_names = []\n",
    "    for (dirpath, dirnames, filenames) in os.walk(datapath):\n",
    "        for fn in filenames:\n",
    "            if \"csv\" not in fn:\n",
    "                continue\n",
    "            abs_fn = dirpath + fn\n",
    "            if not os.path.isfile(abs_fn):\n",
    "                print(abs_fn)\n",
    "            assert os.path.isfile(abs_fn)\n",
    "            if os.path.getsize(abs_fn) == 0:\n",
    "                continue\n",
    "            eval_file_names.append(abs_fn)\n",
    "    df_list = []\n",
    "    for fn in eval_file_names:\n",
    "        fid = fn.split('/')[-1].split('.csv')[0]\n",
    "        df = pd.read_csv(fn)\n",
    "        df['table_id'] = fid\n",
    "        df_list.append(df)\n",
    "    return pd.concat(df_list) \n",
    "\n",
    "def compute_normalization_factor(args, all_data):\n",
    "    features = train_features\n",
    "    \n",
    "    min_max_scaler_path = args.min_max_scaler_path\n",
    "    all_data_features = all_data[features]\n",
    "    scaler = MinMaxScaler()\n",
    "    scaler.fit(all_data_features)\n",
    "    pickle.dump(scaler, open(min_max_scaler_path, 'wb'))\n",
    "    return scaler\n",
    "\n",
    "def generate_train_data(args):\n",
    "    scaler_path = args.min_max_scaler_path\n",
    "    scaler = pickle.load(open(scaler_path, 'rb'))\n",
    "    final_list = []\n",
    "    \n",
    "    features = features_including_eval_label\n",
    "    normalize_features = train_features\n",
    "    \n",
    "    evaluation_label = ['evaluation_label']\n",
    "    positive_features_final = []\n",
    "    negative_features_final = []\n",
    "    for i,file in enumerate(tqdm(glob.glob(args.train_path + '/*.csv'))):\n",
    "        file_name = file.split('/')[-1]\n",
    "        print(file_name)\n",
    "        d_sample = pd.read_csv(file)\n",
    "        grouped_obj = d_sample.groupby(['row', 'column'])\n",
    "        for cell in grouped_obj:\n",
    "            cell[1][normalize_features] = scaler.transform(cell[1][normalize_features])\n",
    "            pos_features = []\n",
    "            neg_features = []\n",
    "            a = cell[1][cell[1]['evaluation_label'] == 1]\n",
    "            if a.empty:\n",
    "                continue\n",
    "            num_rows = 64\n",
    "            pos_row = a[features].drop('evaluation_label',axis=1)\n",
    "            negatives_filtered = cell[1][cell[1]['evaluation_label'] == -1]\n",
    "            \n",
    "            #TODO -- MAKE THIS BETTER\n",
    "            \n",
    "            negatives_filtered = negatives_filtered[features]\n",
    "            if 0 in negatives_filtered['evaluation_label'].tolist():\n",
    "                continue\n",
    "            if negatives_filtered.empty:\n",
    "                continue\n",
    "            neg_list = []\n",
    "            if num_rows < len(negatives_filtered):\n",
    "                negatives_filtered = negatives_filtered[negatives_filtered['evaluation_label'] == -1]\n",
    "                retrieval_score_df = negatives_filtered.sort_values('retrieval_score',ascending=False)\n",
    "                neg_list.append(retrieval_score_df[:2])\n",
    "                pagerank_score_df = retrieval_score_df[2:].sort_values('pagerank', ascending=False)\n",
    "                neg_list.append(pagerank_score_df[:2])\n",
    "                \n",
    "#                 class_count_score_df = pagerank_score_df[2:].sort_values('lof_class_count_tf_idf_score', ascending=False)\n",
    "#                 neg_list.append(class_count_score_df[:2])\n",
    "#                 prop_count_score_df = class_count_score_df[2:].sort_values('lof_property_count_tf_idf_score', ascending=False)\n",
    "#                 neg_list.append(prop_count_score_df[:2])\n",
    "                \n",
    "                monge_elkan_score_df = pagerank_score_df[2:].sort_values('monge_elkan', ascending=False)\n",
    "                neg_list.append(monge_elkan_score_df[:2])\n",
    "                jaro_winkler_score_df = monge_elkan_score_df[2:].sort_values('jaro_winkler', ascending=False)\n",
    "                neg_list.append(jaro_winkler_score_df[:2])\n",
    "                top_sample_df = jaro_winkler_score_df.sample(n=(num_rows - sum([len(x) for x in neg_list])))\n",
    "                \n",
    "#                 graph_embedding_score_df = jaro_winkler_score_df[2:].sort_values('lof-graph-embedding-score', ascending=False)\n",
    "#                 neg_list.append(graph_embedding_score_df[:2])\n",
    "#                 top_sample_df = graph_embedding_score_df.sample(n=(num_rows - sum([len(x) for x in neg_list])))\n",
    "                \n",
    "#                 h_embedding_score_df = jaro_winkler_score_df[2:].sort_values('lof-H_5x8-embedding-score', ascending=False)\n",
    "#                 neg_list.append(h_embedding_score_df[:2])\n",
    "#                 a_embedding_score_df = h_embedding_score_df[2:].sort_values('lof-A-embedding-score', ascending=False)\n",
    "#                 neg_list.append(a_embedding_score_df[:2])\n",
    "#                 s_embedding_score_df = a_embedding_score_df[2:].sort_values('lof-S-embedding-score', ascending=False)\n",
    "#                 neg_list.append(s_embedding_score_df[:2])\n",
    "#                 top_sample_df = s_embedding_score_df.sample(n=(num_rows - sum([len(x) for x in neg_list])))\n",
    "\n",
    "#                 eval_label_df = jaro_winkler_score_df[2:].sort_values('evaluation_label_copy', ascending=False)\n",
    "#                 neg_list.append(eval_label_df[:2])\n",
    "#                 top_sample_df = eval_label_df.sample(n=(num_rows - sum([len(x) for x in neg_list])))\n",
    "        \n",
    "#                 profile_complex_df = jaro_winkler_score_df[2:].sort_values('lof-Profile-ComplEx-embedding-score', ascending=False)\n",
    "#                 neg_list.append(profile_complex_df[:2])\n",
    "#                 top_sample_df = profile_complex_df.sample(n=(num_rows - sum([len(x) for x in neg_list])))\n",
    "            \n",
    "                neg_list.append(top_sample_df)\n",
    "                top_sample_df = pd.concat(neg_list)\n",
    "                top_sample_df.drop('evaluation_label', inplace=True, axis=1)\n",
    "                top_sample_arr = top_sample_df.to_numpy()\n",
    "            \n",
    "            for i in range(num_rows):\n",
    "                neg_features.append(top_sample_arr[i])\n",
    "            random.shuffle(neg_features)\n",
    "            for i in range(num_rows):\n",
    "                pos_row_sample = pos_row.sample(n=1)\n",
    "                ar = pos_row_sample.to_numpy()\n",
    "                for ps_ar in ar:\n",
    "                    pos_features.append(ps_ar)\n",
    "            positive_features_final.append(pos_features)\n",
    "            negative_features_final.append(neg_features)\n",
    "    print(len(positive_features_final), len(positive_features_final[37]))\n",
    "    print(len(negative_features_final), len(negative_features_final[37]))\n",
    "    pickle.dump(positive_features_final,open(args.pos_output,'wb'))\n",
    "    pickle.dump(negative_features_final,open(args.neg_output,'wb'))\n"
   ]
  },
  {
   "cell_type": "code",
   "execution_count": 270,
   "metadata": {
    "scrolled": true
   },
   "outputs": [
    {
     "name": "stderr",
     "output_type": "stream",
     "text": [
      "\r",
      "  0%|          | 0/44 [00:00<?, ?it/s]"
     ]
    },
    {
     "name": "stdout",
     "output_type": "stream",
     "text": [
      "58891288_0_1117541047012405958.csv\n"
     ]
    },
    {
     "name": "stderr",
     "output_type": "stream",
     "text": [
      "\r",
      "  2%|▏         | 1/44 [00:05<04:12,  5.87s/it]"
     ]
    },
    {
     "name": "stdout",
     "output_type": "stream",
     "text": [
      "39173938_0_7916056990138658530.csv\n"
     ]
    },
    {
     "name": "stderr",
     "output_type": "stream",
     "text": [
      "\r",
      "  5%|▍         | 2/44 [00:11<04:03,  5.81s/it]"
     ]
    },
    {
     "name": "stdout",
     "output_type": "stream",
     "text": [
      "10579449_0_1681126353774891032.csv\n"
     ]
    },
    {
     "name": "stderr",
     "output_type": "stream",
     "text": [
      "\r",
      "  7%|▋         | 3/44 [00:12<02:59,  4.38s/it]"
     ]
    },
    {
     "name": "stdout",
     "output_type": "stream",
     "text": [
      "33401079_0_9127583903019856402.csv\n"
     ]
    },
    {
     "name": "stderr",
     "output_type": "stream",
     "text": [
      "\r",
      "  9%|▉         | 4/44 [00:15<02:43,  4.08s/it]"
     ]
    },
    {
     "name": "stdout",
     "output_type": "stream",
     "text": [
      "21362676_0_6854186738074119688.csv\n"
     ]
    },
    {
     "name": "stderr",
     "output_type": "stream",
     "text": [
      "\r",
      " 11%|█▏        | 5/44 [00:22<03:09,  4.85s/it]"
     ]
    },
    {
     "name": "stdout",
     "output_type": "stream",
     "text": [
      "38428277_0_1311643810102462607.csv\n"
     ]
    },
    {
     "name": "stderr",
     "output_type": "stream",
     "text": [
      "\r",
      " 14%|█▎        | 6/44 [00:31<03:46,  5.97s/it]"
     ]
    },
    {
     "name": "stdout",
     "output_type": "stream",
     "text": [
      "91959037_0_7907661684242014480.csv\n"
     ]
    },
    {
     "name": "stderr",
     "output_type": "stream",
     "text": [
      "\r",
      " 16%|█▌        | 7/44 [00:56<07:10, 11.64s/it]"
     ]
    },
    {
     "name": "stdout",
     "output_type": "stream",
     "text": [
      "20135078_0_7570343137119682530.csv\n"
     ]
    },
    {
     "name": "stderr",
     "output_type": "stream",
     "text": [
      "\r",
      " 18%|█▊        | 8/44 [01:02<06:01, 10.05s/it]"
     ]
    },
    {
     "name": "stdout",
     "output_type": "stream",
     "text": [
      "35188621_0_6058553107571275232.csv\n"
     ]
    },
    {
     "name": "stderr",
     "output_type": "stream",
     "text": [
      "\r",
      " 20%|██        | 9/44 [01:09<05:19,  9.13s/it]"
     ]
    },
    {
     "name": "stdout",
     "output_type": "stream",
     "text": [
      "54719588_0_8417197176086756912.csv\n"
     ]
    },
    {
     "name": "stderr",
     "output_type": "stream",
     "text": [
      "\r",
      " 23%|██▎       | 10/44 [01:26<06:34, 11.61s/it]"
     ]
    },
    {
     "name": "stdout",
     "output_type": "stream",
     "text": [
      "21245481_0_8730460088443117515.csv\n"
     ]
    },
    {
     "name": "stderr",
     "output_type": "stream",
     "text": [
      "\r",
      " 25%|██▌       | 11/44 [01:38<06:25, 11.69s/it]"
     ]
    },
    {
     "name": "stdout",
     "output_type": "stream",
     "text": [
      "71840765_0_6664391841933033844.csv\n"
     ]
    },
    {
     "name": "stderr",
     "output_type": "stream",
     "text": [
      "\r",
      " 27%|██▋       | 12/44 [01:39<04:29,  8.43s/it]"
     ]
    },
    {
     "name": "stdout",
     "output_type": "stream",
     "text": [
      "8468806_0_4382447409703007384.csv\n"
     ]
    },
    {
     "name": "stderr",
     "output_type": "stream",
     "text": [
      "\r",
      " 30%|██▉       | 13/44 [01:45<03:56,  7.64s/it]"
     ]
    },
    {
     "name": "stdout",
     "output_type": "stream",
     "text": [
      "88523363_0_8180214313099580515.csv\n"
     ]
    },
    {
     "name": "stderr",
     "output_type": "stream",
     "text": [
      "\r",
      " 32%|███▏      | 14/44 [02:16<07:22, 14.77s/it]"
     ]
    },
    {
     "name": "stdout",
     "output_type": "stream",
     "text": [
      "29414811_13_8724394428539174350.csv\n"
     ]
    },
    {
     "name": "stderr",
     "output_type": "stream",
     "text": [
      "\r",
      " 34%|███▍      | 15/44 [02:17<05:08, 10.65s/it]"
     ]
    },
    {
     "name": "stdout",
     "output_type": "stream",
     "text": [
      "99070098_0_2074872741302696997.csv\n"
     ]
    },
    {
     "name": "stderr",
     "output_type": "stream",
     "text": [
      "\r",
      " 36%|███▋      | 16/44 [02:31<05:20, 11.45s/it]"
     ]
    },
    {
     "name": "stdout",
     "output_type": "stream",
     "text": [
      "43237185_1_3636357855502246981.csv\n"
     ]
    },
    {
     "name": "stderr",
     "output_type": "stream",
     "text": [
      "\r",
      " 39%|███▊      | 17/44 [02:32<03:51,  8.57s/it]"
     ]
    },
    {
     "name": "stdout",
     "output_type": "stream",
     "text": [
      "46671561_0_6122315295162029872.csv\n"
     ]
    },
    {
     "name": "stderr",
     "output_type": "stream",
     "text": [
      "\r",
      " 41%|████      | 18/44 [02:43<04:00,  9.25s/it]"
     ]
    },
    {
     "name": "stdout",
     "output_type": "stream",
     "text": [
      "53989675_0_8697482470743954630.csv\n"
     ]
    },
    {
     "name": "stderr",
     "output_type": "stream",
     "text": [
      "\r",
      " 43%|████▎     | 19/44 [02:44<02:50,  6.83s/it]"
     ]
    },
    {
     "name": "stdout",
     "output_type": "stream",
     "text": [
      "25404227_0_2240631045609013057.csv\n"
     ]
    },
    {
     "name": "stderr",
     "output_type": "stream",
     "text": [
      "\r",
      " 45%|████▌     | 20/44 [02:51<02:40,  6.67s/it]"
     ]
    },
    {
     "name": "stdout",
     "output_type": "stream",
     "text": [
      "9834884_0_3871985887467090123.csv\n"
     ]
    },
    {
     "name": "stderr",
     "output_type": "stream",
     "text": [
      "\r",
      " 48%|████▊     | 21/44 [03:11<04:06, 10.72s/it]"
     ]
    },
    {
     "name": "stdout",
     "output_type": "stream",
     "text": [
      "63450419_0_8012592961815711786.csv\n"
     ]
    },
    {
     "name": "stderr",
     "output_type": "stream",
     "text": [
      "\r",
      " 50%|█████     | 22/44 [03:22<03:55, 10.72s/it]"
     ]
    },
    {
     "name": "stdout",
     "output_type": "stream",
     "text": [
      "1438042986423_95_20150728002306-00125-ip-10-236-191-2_88435628_5.csv\n"
     ]
    },
    {
     "name": "stderr",
     "output_type": "stream",
     "text": [
      "\r",
      " 52%|█████▏    | 23/44 [03:22<02:40,  7.63s/it]"
     ]
    },
    {
     "name": "stdout",
     "output_type": "stream",
     "text": [
      "22864497_0_8632623712684511496.csv\n"
     ]
    },
    {
     "name": "stderr",
     "output_type": "stream",
     "text": [
      "\r",
      " 55%|█████▍    | 24/44 [03:43<03:54, 11.74s/it]"
     ]
    },
    {
     "name": "stdout",
     "output_type": "stream",
     "text": [
      "53822652_0_5767892317858575530.csv\n"
     ]
    },
    {
     "name": "stderr",
     "output_type": "stream",
     "text": [
      "\r",
      " 57%|█████▋    | 25/44 [04:08<04:55, 15.55s/it]"
     ]
    },
    {
     "name": "stdout",
     "output_type": "stream",
     "text": [
      "37856682_0_6818907050314633217.csv\n"
     ]
    },
    {
     "name": "stderr",
     "output_type": "stream",
     "text": [
      "\r",
      " 59%|█████▉    | 26/44 [04:25<04:47, 15.98s/it]"
     ]
    },
    {
     "name": "stdout",
     "output_type": "stream",
     "text": [
      "26310680_0_5150772059999313798.csv\n"
     ]
    },
    {
     "name": "stderr",
     "output_type": "stream",
     "text": [
      "\r",
      " 61%|██████▏   | 27/44 [04:36<04:06, 14.52s/it]"
     ]
    },
    {
     "name": "stdout",
     "output_type": "stream",
     "text": [
      "29414811_12_251152470253168163.csv\n"
     ]
    },
    {
     "name": "stderr",
     "output_type": "stream",
     "text": [
      "\r",
      " 64%|██████▎   | 28/44 [04:37<02:49, 10.58s/it]"
     ]
    },
    {
     "name": "stdout",
     "output_type": "stream",
     "text": [
      "69537082_0_7789694313271016902.csv\n"
     ]
    },
    {
     "name": "stderr",
     "output_type": "stream",
     "text": [
      "\r",
      " 66%|██████▌   | 29/44 [04:51<02:54, 11.60s/it]"
     ]
    },
    {
     "name": "stdout",
     "output_type": "stream",
     "text": [
      "1438042989018_40_20150728002309-00067-ip-10-236-191-2_57714692_2.csv\n"
     ]
    },
    {
     "name": "stderr",
     "output_type": "stream",
     "text": [
      "\r",
      " 68%|██████▊   | 30/44 [04:52<01:55,  8.22s/it]"
     ]
    },
    {
     "name": "stdout",
     "output_type": "stream",
     "text": [
      "60319454_0_3938426910282115527.csv\n"
     ]
    },
    {
     "name": "stderr",
     "output_type": "stream",
     "text": [
      "\r",
      " 70%|███████   | 31/44 [04:54<01:24,  6.51s/it]"
     ]
    },
    {
     "name": "stdout",
     "output_type": "stream",
     "text": [
      "16767252_0_2409448375013995751.csv\n"
     ]
    },
    {
     "name": "stderr",
     "output_type": "stream",
     "text": [
      "\r",
      " 73%|███████▎  | 32/44 [04:59<01:13,  6.15s/it]"
     ]
    },
    {
     "name": "stdout",
     "output_type": "stream",
     "text": [
      "84548468_0_5955155464119382182.csv\n"
     ]
    },
    {
     "name": "stderr",
     "output_type": "stream",
     "text": [
      "\r",
      " 75%|███████▌  | 33/44 [05:05<01:05,  5.96s/it]"
     ]
    },
    {
     "name": "stdout",
     "output_type": "stream",
     "text": [
      "80588006_0_6965325215443683359.csv\n"
     ]
    },
    {
     "name": "stderr",
     "output_type": "stream",
     "text": [
      "\r",
      " 77%|███████▋  | 34/44 [05:06<00:44,  4.46s/it]"
     ]
    },
    {
     "name": "stdout",
     "output_type": "stream",
     "text": [
      "39650055_5_7135804139753401681.csv\n"
     ]
    },
    {
     "name": "stderr",
     "output_type": "stream",
     "text": [
      "\r",
      " 80%|███████▉  | 35/44 [05:12<00:44,  4.91s/it]"
     ]
    },
    {
     "name": "stdout",
     "output_type": "stream",
     "text": [
      "40534006_0_4617468856744635526.csv\n"
     ]
    },
    {
     "name": "stderr",
     "output_type": "stream",
     "text": [
      "\r",
      " 82%|████████▏ | 36/44 [05:14<00:32,  4.07s/it]"
     ]
    },
    {
     "name": "stdout",
     "output_type": "stream",
     "text": [
      "90196673_0_5458330029110291950.csv\n"
     ]
    },
    {
     "name": "stderr",
     "output_type": "stream",
     "text": [
      "\r",
      " 84%|████████▍ | 37/44 [05:40<01:14, 10.67s/it]"
     ]
    },
    {
     "name": "stdout",
     "output_type": "stream",
     "text": [
      "24036779_0_5608105867560183058.csv\n"
     ]
    },
    {
     "name": "stderr",
     "output_type": "stream",
     "text": [
      "\r",
      " 86%|████████▋ | 38/44 [05:45<00:53,  8.91s/it]"
     ]
    },
    {
     "name": "stdout",
     "output_type": "stream",
     "text": [
      "9567241_0_5666388268510912770.csv\n"
     ]
    },
    {
     "name": "stderr",
     "output_type": "stream",
     "text": [
      "\r",
      " 89%|████████▊ | 39/44 [05:46<00:32,  6.53s/it]"
     ]
    },
    {
     "name": "stdout",
     "output_type": "stream",
     "text": [
      "41480166_0_6681239260286218499.csv\n"
     ]
    },
    {
     "name": "stderr",
     "output_type": "stream",
     "text": [
      "\r",
      " 91%|█████████ | 40/44 [05:58<00:33,  8.29s/it]"
     ]
    },
    {
     "name": "stdout",
     "output_type": "stream",
     "text": [
      "77694908_0_6083291340991074532.csv\n"
     ]
    },
    {
     "name": "stderr",
     "output_type": "stream",
     "text": [
      "\r",
      " 93%|█████████▎| 41/44 [06:04<00:22,  7.43s/it]"
     ]
    },
    {
     "name": "stdout",
     "output_type": "stream",
     "text": [
      "1438042989043_35_20150728002309-00287-ip-10-236-191-2_875026214_2.csv\n"
     ]
    },
    {
     "name": "stderr",
     "output_type": "stream",
     "text": [
      "\r",
      " 95%|█████████▌| 42/44 [06:04<00:10,  5.41s/it]"
     ]
    },
    {
     "name": "stdout",
     "output_type": "stream",
     "text": [
      "39107734_2_2329160387535788734.csv\n"
     ]
    },
    {
     "name": "stderr",
     "output_type": "stream",
     "text": [
      "\r",
      " 98%|█████████▊| 43/44 [06:07<00:04,  4.61s/it]"
     ]
    },
    {
     "name": "stdout",
     "output_type": "stream",
     "text": [
      "50245608_0_871275842592178099.csv\n"
     ]
    },
    {
     "name": "stderr",
     "output_type": "stream",
     "text": [
      "100%|██████████| 44/44 [06:23<00:00,  8.71s/it]\n"
     ]
    },
    {
     "name": "stdout",
     "output_type": "stream",
     "text": [
      "5617 64\n",
      "5617 64\n"
     ]
    }
   ],
   "source": [
    "gen_training_data_args = Namespace(train_path=train_path, pos_output=pos_output, neg_output=neg_output, \n",
    "                 min_max_scaler_path=min_max_scaler_path)\n",
    "all_data = merge_files(gen_training_data_args)\n",
    "scaler = compute_normalization_factor(gen_training_data_args, all_data)\n",
    "generate_train_data(gen_training_data_args)\n"
   ]
  },
  {
   "cell_type": "markdown",
   "metadata": {},
   "source": [
    "### Model Definition"
   ]
  },
  {
   "cell_type": "code",
   "execution_count": 271,
   "metadata": {},
   "outputs": [],
   "source": [
    "# Dataset\n",
    "class T2DV2Dataset(Dataset):\n",
    "    def __init__(self, pos_features, neg_features):\n",
    "        self.pos_features = pos_features\n",
    "        self.neg_features = neg_features\n",
    "    \n",
    "    def __len__(self):\n",
    "        return len(self.pos_features)\n",
    "    \n",
    "    def __getitem__(self, idx):\n",
    "        return self.pos_features[idx], self.neg_features[idx]\n",
    "\n",
    "# Model\n",
    "class PairwiseNetwork(nn.Module):\n",
    "    def __init__(self, hidden_size):\n",
    "        super().__init__()\n",
    "        #original 12x24, 24x12, 12x12, 12x1\n",
    "        self.fc1 = nn.Linear(hidden_size, 2*hidden_size)\n",
    "        self.fc2 = nn.Linear(2*hidden_size, hidden_size)\n",
    "        self.fc3 = nn.Linear(hidden_size, hidden_size)\n",
    "        self.fc4 = nn.Linear(hidden_size, 1)\n",
    "    \n",
    "    def forward(self, pos_features, neg_features):\n",
    "        # Positive pass\n",
    "        x = F.relu(self.fc1(pos_features))\n",
    "        x = F.relu(self.fc2(x))\n",
    "        x = F.relu(self.fc3(x))\n",
    "        pos_out = torch.sigmoid(self.fc4(x))\n",
    "        \n",
    "        # Negative Pass\n",
    "        x = F.relu(self.fc1(neg_features))\n",
    "        x = F.relu(self.fc2(x))\n",
    "        x = F.relu(self.fc3(x))\n",
    "        neg_out = torch.sigmoid(self.fc4(x))\n",
    "        \n",
    "        return pos_out, neg_out\n",
    "    \n",
    "    def predict(self, test_feat):\n",
    "        x = F.relu(self.fc1(test_feat))\n",
    "        x = F.relu(self.fc2(x))\n",
    "        x = F.relu(self.fc3(x))\n",
    "        test_out = torch.sigmoid(self.fc4(x))\n",
    "        return test_out\n",
    "\n",
    "# Pairwise Loss\n",
    "class PairwiseLoss(nn.Module):\n",
    "    def __init__(self):\n",
    "        super().__init__()\n",
    "        self.m = 0\n",
    "    \n",
    "    def forward(self, pos_out, neg_out):\n",
    "        distance = (1 - pos_out) + neg_out\n",
    "        loss = torch.mean(torch.max(torch.tensor(0), distance))\n",
    "        return loss"
   ]
  },
  {
   "cell_type": "markdown",
   "metadata": {},
   "source": [
    "### Training"
   ]
  },
  {
   "cell_type": "code",
   "execution_count": 272,
   "metadata": {},
   "outputs": [],
   "source": [
    "def generate_dataloader(positive_feat_path, negative_feat_path):\n",
    "    pos_features = pickle.load(open(positive_feat_path, 'rb'))\n",
    "    neg_features = pickle.load(open(negative_feat_path, 'rb'))\n",
    "\n",
    "    pos_features_flatten = list(chain.from_iterable(pos_features))\n",
    "    neg_features_flatten = list(chain.from_iterable(neg_features))\n",
    "\n",
    "    train_dataset = T2DV2Dataset(pos_features_flatten, neg_features_flatten)\n",
    "    train_dataloader = DataLoader(train_dataset, batch_size=64)\n",
    "    return train_dataloader\n",
    "\n",
    "def infer_scores(min_max_scaler_path, input_table_path, output_table_path, model):\n",
    "    scaler = pickle.load(open(min_max_scaler_path, 'rb'))\n",
    "    \n",
    "    normalize_features = train_features\n",
    "    \n",
    "    for file in glob.glob(input_table_path + '*.csv'):\n",
    "        file_name = file.split('/')[-1]\n",
    "        if file_name != '52299421_0_4473286348258170200.csv':\n",
    "            print(file_name)\n",
    "            d_sample = pd.read_csv(file)\n",
    "            grouped_obj = d_sample.groupby(['column', 'row'])\n",
    "            new_df_list = []\n",
    "            pred = []\n",
    "            for cell in grouped_obj:\n",
    "                cell[1][normalize_features] = scaler.transform(cell[1][normalize_features])\n",
    "                \n",
    "                #TODO -- FIGURE OUT HOW TO MAKE THIS CODE NOT DEPEND ON THE CHOSEN FEATURES -- \n",
    "                #        CHANGED FROM GRAPH EMBEDDING TO RETRIEVAL SCORE\n",
    "                \n",
    "                sorted_df = cell[1].sort_values('retrieval_score',ascending=False)[:64]\n",
    "                sorted_df_features = sorted_df[normalize_features]\n",
    "                new_df_list.append(sorted_df)\n",
    "                arr = sorted_df_features.to_numpy()\n",
    "                test_inp = []\n",
    "                for a in arr:\n",
    "                    test_inp.append(a)\n",
    "                test_tensor = torch.tensor(test_inp).float()\n",
    "                scores = model.predict(test_tensor)\n",
    "                pred.extend(torch.squeeze(scores).tolist())\n",
    "            test_df = pd.concat(new_df_list)\n",
    "            test_df['siamese_pred'] = pred\n",
    "            test_df.to_csv(os.path.join(output_table_path, file_name), index=False)\n",
    "\n",
    "def train(args):\n",
    "    if torch.cuda.is_available():\n",
    "        device = torch.device('cuda')\n",
    "    \n",
    "    else:\n",
    "        device = torch.device('cpu')\n",
    "    train_dataloader = generate_dataloader(args.positive_feat_path, args.negative_feat_path)\n",
    "    criterion = PairwiseLoss()\n",
    "    EPOCHS = args.num_epochs\n",
    "    model = PairwiseNetwork(len(train_features)).to(device=device)\n",
    "    optimizer = Adam(model.parameters(), lr=args.lr)\n",
    "    top1_max_prec = 0\n",
    "    for epoch in range(EPOCHS):\n",
    "        train_epoch_loss = 0\n",
    "        avg_loss = 0\n",
    "        model.train()\n",
    "        for bid, batch in tqdm(enumerate(train_dataloader), position=0, leave=True):\n",
    "            positive_feat = torch.tensor(batch[0].float())\n",
    "            negative_feat = torch.tensor(batch[1].float())\n",
    "            optimizer.zero_grad()\n",
    "            pos_out, neg_out = model(positive_feat, negative_feat)\n",
    "            loss = criterion(pos_out, neg_out)\n",
    "            loss.backward()\n",
    "            optimizer.step()\n",
    "            train_epoch_loss += loss\n",
    "        avg_loss = train_epoch_loss / bid\n",
    "\n",
    "        # Evaluation\n",
    "        model.eval()\n",
    "        infer_scores(args.min_max_scaler_path, args.dev_path, args.dev_output, model)\n",
    "        eval_data = merge_eval_files(args.dev_output)\n",
    "        res, candidate_eval_data = parse_eval_files_stats(eval_data, 'siamese_pred')\n",
    "        top1_precision = res['num_tasks_with_model_score_top_one_accurate']/res['num_tasks_with_gt']\n",
    "        if top1_precision > top1_max_prec:\n",
    "            top1_max_prec = top1_precision\n",
    "            model_save_name = 'epoch_{}_loss_{}_top1_{}.pth'.format(epoch, avg_loss, top1_max_prec)\n",
    "            model_path = os.path.join(args.model_save_path, model_save_name)\n",
    "            torch.save(model.state_dict(), model_path)\n",
    "        \n",
    "        print(\"Epoch {}, Avg Loss is {}, epoch top1 {}, max top1 {}\".format(epoch, avg_loss, top1_precision, top1_max_prec))"
   ]
  },
  {
   "cell_type": "code",
   "execution_count": 273,
   "metadata": {},
   "outputs": [],
   "source": [
    "def merge_eval_files(final_score_path):\n",
    "    eval_file_names = []\n",
    "    df_list = []\n",
    "    for (dirpath, dirnames, filenames) in os.walk(final_score_path):\n",
    "        for fn in filenames:\n",
    "            if fn != '52299421_0_4473286348258170200.csv':\n",
    "                if \"csv\" not in fn:\n",
    "                    continue\n",
    "                abs_fn = os.path.join(dirpath, fn)\n",
    "                assert os.path.isfile(abs_fn)\n",
    "                if os.path.getsize(abs_fn) == 0:\n",
    "                    continue\n",
    "                eval_file_names.append(abs_fn)\n",
    "    \n",
    "    for fn in eval_file_names:\n",
    "        fid = fn.split('/')[-1].split('.csv')[0]\n",
    "        df = pd.read_csv(fn)\n",
    "        df['table_id'] = fid\n",
    "        # df = df.fillna('')\n",
    "        df_list.append(df)\n",
    "    return pd.concat(df_list)\n",
    "\n",
    "def parse_eval_files_stats(eval_data, method):\n",
    "    res = {}\n",
    "    candidate_eval_data = eval_data.groupby(['table_id', 'row', 'column'])['table_id'].count().reset_index(name=\"count\")\n",
    "    res['num_tasks'] = len(eval_data.groupby(['table_id', 'row', 'column']))\n",
    "    res['num_tasks_with_gt'] = len(eval_data[pd.notna(eval_data['GT_kg_id'])].groupby(['table_id', 'row', 'column']))\n",
    "    res['num_tasks_with_gt_in_candidate'] = len(eval_data[eval_data['evaluation_label'] == 1].groupby(['table_id', 'row', 'column']))\n",
    "    res['num_tasks_with_singleton_candidate'] = len(candidate_eval_data[candidate_eval_data['count'] == 1].groupby(['table_id', 'row', 'column']))\n",
    "    singleton_eval_data = candidate_eval_data[candidate_eval_data['count'] == 1]\n",
    "    num_tasks_with_singleton_candidate_with_gt = 0\n",
    "    for i, row in singleton_eval_data.iterrows():\n",
    "        table_id, row_idx, col_idx = row['table_id'], row['row'], row['column']\n",
    "        c_e_data = eval_data[(eval_data['table_id'] == table_id) & (eval_data['row'] == row_idx) & (eval_data['column'] == col_idx)]\n",
    "        assert len(c_e_data) == 1\n",
    "        if c_e_data.iloc[0]['evaluation_label'] == 1:\n",
    "            num_tasks_with_singleton_candidate_with_gt += 1\n",
    "    res['num_tasks_with_singleton_candidate_with_gt'] = num_tasks_with_singleton_candidate_with_gt\n",
    "    num_tasks_with_graph_top_one_accurate = []\n",
    "    num_tasks_with_graph_top_five_accurate = []\n",
    "    num_tasks_with_graph_top_ten_accurate = []\n",
    "    num_tasks_with_model_score_top_one_accurate = []\n",
    "    num_tasks_with_model_score_top_five_accurate = []\n",
    "    num_tasks_with_model_score_top_ten_accurate = []\n",
    "    has_gt_list = []\n",
    "    has_gt_in_candidate = []\n",
    "    # candidate_eval_data = candidate_eval_data[:1]\n",
    "    for i, row in candidate_eval_data.iterrows():\n",
    "        #print(i)\n",
    "        table_id, row_idx, col_idx = row['table_id'], row['row'], row['column']\n",
    "        c_e_data = eval_data[(eval_data['table_id'] == table_id) & (eval_data['row'] == row_idx) & (eval_data['column'] == col_idx)]\n",
    "        assert len(c_e_data) > 0\n",
    "        if np.nan not in set(c_e_data['GT_kg_id']):\n",
    "            has_gt_list.append(1)\n",
    "        else:\n",
    "            has_gt_list.append(0)\n",
    "        if 1 in set(c_e_data['evaluation_label']):\n",
    "            has_gt_in_candidate.append(1)\n",
    "        else:\n",
    "            has_gt_in_candidate.append(0)\n",
    "            \n",
    "        # handle graph-embedding-score\n",
    "#         s_data = c_e_data.sort_values(by=['lof-graph-embedding-score'], ascending=False)\n",
    "#         if s_data.iloc[0]['evaluation_label'] == 1:\n",
    "#             num_tasks_with_graph_top_one_accurate.append(1)\n",
    "#         else:\n",
    "#             num_tasks_with_graph_top_one_accurate.append(0)\n",
    "#         if 1 in set(s_data.iloc[0:5]['evaluation_label']):\n",
    "#             num_tasks_with_graph_top_five_accurate.append(1)\n",
    "#         else:\n",
    "#             num_tasks_with_graph_top_five_accurate.append(0)\n",
    "#         if 1 in set(s_data.iloc[0:10]['evaluation_label']):\n",
    "#             num_tasks_with_graph_top_ten_accurate.append(1)\n",
    "#         else:\n",
    "#             num_tasks_with_graph_top_ten_accurate.append(0)\n",
    "        \n",
    "        #rank on model score\n",
    "        s_data = c_e_data.sort_values(by=[method], ascending=False)\n",
    "        if s_data.iloc[0]['evaluation_label'] == 1:\n",
    "            num_tasks_with_model_score_top_one_accurate.append(1)\n",
    "        else:\n",
    "            num_tasks_with_model_score_top_one_accurate.append(0)\n",
    "        if 1 in set(s_data.iloc[0:5]['evaluation_label']):\n",
    "            num_tasks_with_model_score_top_five_accurate.append(1)\n",
    "        else:\n",
    "            num_tasks_with_model_score_top_five_accurate.append(0)\n",
    "        if 1 in set(s_data.iloc[0:10]['evaluation_label']):\n",
    "            num_tasks_with_model_score_top_ten_accurate.append(1)\n",
    "        else:\n",
    "            num_tasks_with_model_score_top_ten_accurate.append(0)\n",
    "            \n",
    "#         cf_e_data = c_e_data.copy()\n",
    "#         cf_e_data['lof-graph-embedding-score'] = cf_e_data['lof-graph-embedding-score'].replace(np.nan, 0)\n",
    "#         cf_e_data[method] = cf_e_data[method].replace(np.nan, 0)\n",
    "\n",
    "#     candidate_eval_data['lof-graph_top_one_accurate'] = num_tasks_with_graph_top_one_accurate\n",
    "#     candidate_eval_data['lof-graph_top_five_accurate'] = num_tasks_with_graph_top_five_accurate\n",
    "#     candidate_eval_data['lof-graph_top_ten_accurate'] = num_tasks_with_graph_top_five_accurate\n",
    "    candidate_eval_data['model_top_one_accurate'] = num_tasks_with_model_score_top_one_accurate\n",
    "    candidate_eval_data['model_top_five_accurate'] = num_tasks_with_model_score_top_five_accurate\n",
    "    candidate_eval_data['model_top_ten_accurate'] = num_tasks_with_model_score_top_ten_accurate\n",
    "    candidate_eval_data['has_gt'] = has_gt_list\n",
    "    candidate_eval_data['has_gt_in_candidate'] = has_gt_in_candidate\n",
    "#     res['num_tasks_with_graph_top_one_accurate'] = sum(num_tasks_with_graph_top_one_accurate)\n",
    "#     res['num_tasks_with_graph_top_five_accurate'] = sum(num_tasks_with_graph_top_five_accurate)\n",
    "#     res['num_tasks_with_graph_top_ten_accurate'] = sum(num_tasks_with_graph_top_ten_accurate)\n",
    "    res['num_tasks_with_model_score_top_one_accurate'] = sum(num_tasks_with_model_score_top_one_accurate)\n",
    "    res['num_tasks_with_model_score_top_five_accurate'] = sum(num_tasks_with_model_score_top_five_accurate)\n",
    "    res['num_tasks_with_model_score_top_ten_accurate'] = sum(num_tasks_with_model_score_top_ten_accurate)\n",
    "    return res, candidate_eval_data"
   ]
  },
  {
   "cell_type": "code",
   "execution_count": 274,
   "metadata": {},
   "outputs": [],
   "source": [
    "training_args = Namespace(num_epochs=20, lr=0.001, positive_feat_path=pos_output, negative_feat_path=neg_output,\n",
    "                         dev_path=dev_path, dev_output=dev_output_predictions,\n",
    "                         model_save_path=model_save_path, min_max_scaler_path=min_max_scaler_path)"
   ]
  },
  {
   "cell_type": "code",
   "execution_count": 275,
   "metadata": {},
   "outputs": [],
   "source": [
    "import warnings\n",
    "warnings.filterwarnings('ignore')"
   ]
  },
  {
   "cell_type": "code",
   "execution_count": 276,
   "metadata": {
    "scrolled": true
   },
   "outputs": [
    {
     "name": "stderr",
     "output_type": "stream",
     "text": [
      "5617it [00:48, 116.92it/s]\n"
     ]
    },
    {
     "name": "stdout",
     "output_type": "stream",
     "text": [
      "39759273_0_1427898308030295194.csv\n",
      "45073662_0_3179937335063201739.csv\n",
      "29414811_2_4773219892816395776.csv\n",
      "84575189_0_6365692015941409487.csv\n",
      "14380604_4_3329235705746762392.csv\n",
      "50270082_0_444360818941411589.csv\n",
      "28086084_0_3127660530989916727.csv\n",
      "14067031_0_559833072073397908.csv\n"
     ]
    },
    {
     "name": "stderr",
     "output_type": "stream",
     "text": [
      "10it [00:00, 92.45it/s]"
     ]
    },
    {
     "name": "stdout",
     "output_type": "stream",
     "text": [
      "Epoch 0, Avg Loss is 0.9942958950996399, epoch top1 0.3004115226337449, max top1 0.3004115226337449\n"
     ]
    },
    {
     "name": "stderr",
     "output_type": "stream",
     "text": [
      "5617it [00:46, 121.11it/s]\n"
     ]
    },
    {
     "name": "stdout",
     "output_type": "stream",
     "text": [
      "39759273_0_1427898308030295194.csv\n",
      "45073662_0_3179937335063201739.csv\n",
      "29414811_2_4773219892816395776.csv\n",
      "84575189_0_6365692015941409487.csv\n",
      "14380604_4_3329235705746762392.csv\n",
      "50270082_0_444360818941411589.csv\n",
      "28086084_0_3127660530989916727.csv\n",
      "14067031_0_559833072073397908.csv\n"
     ]
    },
    {
     "name": "stderr",
     "output_type": "stream",
     "text": [
      "11it [00:00, 90.10it/s]"
     ]
    },
    {
     "name": "stdout",
     "output_type": "stream",
     "text": [
      "Epoch 1, Avg Loss is 1.0001780986785889, epoch top1 0.3004115226337449, max top1 0.3004115226337449\n"
     ]
    },
    {
     "name": "stderr",
     "output_type": "stream",
     "text": [
      "5617it [00:51, 109.32it/s]\n"
     ]
    },
    {
     "name": "stdout",
     "output_type": "stream",
     "text": [
      "39759273_0_1427898308030295194.csv\n",
      "45073662_0_3179937335063201739.csv\n",
      "29414811_2_4773219892816395776.csv\n",
      "84575189_0_6365692015941409487.csv\n",
      "14380604_4_3329235705746762392.csv\n",
      "50270082_0_444360818941411589.csv\n",
      "28086084_0_3127660530989916727.csv\n",
      "14067031_0_559833072073397908.csv\n"
     ]
    },
    {
     "name": "stderr",
     "output_type": "stream",
     "text": [
      "8it [00:00, 63.59it/s]"
     ]
    },
    {
     "name": "stdout",
     "output_type": "stream",
     "text": [
      "Epoch 2, Avg Loss is 1.0001780986785889, epoch top1 0.3004115226337449, max top1 0.3004115226337449\n"
     ]
    },
    {
     "name": "stderr",
     "output_type": "stream",
     "text": [
      "5617it [01:01, 90.79it/s] \n"
     ]
    },
    {
     "name": "stdout",
     "output_type": "stream",
     "text": [
      "39759273_0_1427898308030295194.csv\n",
      "45073662_0_3179937335063201739.csv\n",
      "29414811_2_4773219892816395776.csv\n",
      "84575189_0_6365692015941409487.csv\n",
      "14380604_4_3329235705746762392.csv\n",
      "50270082_0_444360818941411589.csv\n",
      "28086084_0_3127660530989916727.csv\n",
      "14067031_0_559833072073397908.csv\n"
     ]
    },
    {
     "name": "stderr",
     "output_type": "stream",
     "text": [
      "9it [00:00, 85.90it/s]"
     ]
    },
    {
     "name": "stdout",
     "output_type": "stream",
     "text": [
      "Epoch 3, Avg Loss is 1.0001780986785889, epoch top1 0.3004115226337449, max top1 0.3004115226337449\n"
     ]
    },
    {
     "name": "stderr",
     "output_type": "stream",
     "text": [
      "350it [00:03, 102.08it/s]\n"
     ]
    },
    {
     "ename": "KeyboardInterrupt",
     "evalue": "",
     "output_type": "error",
     "traceback": [
      "\u001b[0;31m---------------------------------------------------------------------------\u001b[0m",
      "\u001b[0;31mKeyboardInterrupt\u001b[0m                         Traceback (most recent call last)",
      "\u001b[0;32m<ipython-input-276-c1ad5c471ba3>\u001b[0m in \u001b[0;36m<module>\u001b[0;34m\u001b[0m\n\u001b[1;32m      1\u001b[0m \u001b[0;31m## Call Training\u001b[0m\u001b[0;34m\u001b[0m\u001b[0;34m\u001b[0m\u001b[0;34m\u001b[0m\u001b[0m\n\u001b[0;32m----> 2\u001b[0;31m \u001b[0mtrain\u001b[0m\u001b[0;34m(\u001b[0m\u001b[0mtraining_args\u001b[0m\u001b[0;34m)\u001b[0m\u001b[0;34m\u001b[0m\u001b[0;34m\u001b[0m\u001b[0m\n\u001b[0m",
      "\u001b[0;32m<ipython-input-272-97a022f2b49c>\u001b[0m in \u001b[0;36mtrain\u001b[0;34m(args)\u001b[0m\n\u001b[1;32m     65\u001b[0m             \u001b[0mpos_out\u001b[0m\u001b[0;34m,\u001b[0m \u001b[0mneg_out\u001b[0m \u001b[0;34m=\u001b[0m \u001b[0mmodel\u001b[0m\u001b[0;34m(\u001b[0m\u001b[0mpositive_feat\u001b[0m\u001b[0;34m,\u001b[0m \u001b[0mnegative_feat\u001b[0m\u001b[0;34m)\u001b[0m\u001b[0;34m\u001b[0m\u001b[0;34m\u001b[0m\u001b[0m\n\u001b[1;32m     66\u001b[0m             \u001b[0mloss\u001b[0m \u001b[0;34m=\u001b[0m \u001b[0mcriterion\u001b[0m\u001b[0;34m(\u001b[0m\u001b[0mpos_out\u001b[0m\u001b[0;34m,\u001b[0m \u001b[0mneg_out\u001b[0m\u001b[0;34m)\u001b[0m\u001b[0;34m\u001b[0m\u001b[0;34m\u001b[0m\u001b[0m\n\u001b[0;32m---> 67\u001b[0;31m             \u001b[0mloss\u001b[0m\u001b[0;34m.\u001b[0m\u001b[0mbackward\u001b[0m\u001b[0;34m(\u001b[0m\u001b[0;34m)\u001b[0m\u001b[0;34m\u001b[0m\u001b[0;34m\u001b[0m\u001b[0m\n\u001b[0m\u001b[1;32m     68\u001b[0m             \u001b[0moptimizer\u001b[0m\u001b[0;34m.\u001b[0m\u001b[0mstep\u001b[0m\u001b[0;34m(\u001b[0m\u001b[0;34m)\u001b[0m\u001b[0;34m\u001b[0m\u001b[0;34m\u001b[0m\u001b[0m\n\u001b[1;32m     69\u001b[0m             \u001b[0mtrain_epoch_loss\u001b[0m \u001b[0;34m+=\u001b[0m \u001b[0mloss\u001b[0m\u001b[0;34m\u001b[0m\u001b[0;34m\u001b[0m\u001b[0m\n",
      "\u001b[0;32m/opt/anaconda3/lib/python3.8/site-packages/torch/tensor.py\u001b[0m in \u001b[0;36mbackward\u001b[0;34m(self, gradient, retain_graph, create_graph)\u001b[0m\n\u001b[1;32m    219\u001b[0m                 \u001b[0mretain_graph\u001b[0m\u001b[0;34m=\u001b[0m\u001b[0mretain_graph\u001b[0m\u001b[0;34m,\u001b[0m\u001b[0;34m\u001b[0m\u001b[0;34m\u001b[0m\u001b[0m\n\u001b[1;32m    220\u001b[0m                 create_graph=create_graph)\n\u001b[0;32m--> 221\u001b[0;31m         \u001b[0mtorch\u001b[0m\u001b[0;34m.\u001b[0m\u001b[0mautograd\u001b[0m\u001b[0;34m.\u001b[0m\u001b[0mbackward\u001b[0m\u001b[0;34m(\u001b[0m\u001b[0mself\u001b[0m\u001b[0;34m,\u001b[0m \u001b[0mgradient\u001b[0m\u001b[0;34m,\u001b[0m \u001b[0mretain_graph\u001b[0m\u001b[0;34m,\u001b[0m \u001b[0mcreate_graph\u001b[0m\u001b[0;34m)\u001b[0m\u001b[0;34m\u001b[0m\u001b[0;34m\u001b[0m\u001b[0m\n\u001b[0m\u001b[1;32m    222\u001b[0m \u001b[0;34m\u001b[0m\u001b[0m\n\u001b[1;32m    223\u001b[0m     \u001b[0;32mdef\u001b[0m \u001b[0mregister_hook\u001b[0m\u001b[0;34m(\u001b[0m\u001b[0mself\u001b[0m\u001b[0;34m,\u001b[0m \u001b[0mhook\u001b[0m\u001b[0;34m)\u001b[0m\u001b[0;34m:\u001b[0m\u001b[0;34m\u001b[0m\u001b[0;34m\u001b[0m\u001b[0m\n",
      "\u001b[0;32m/opt/anaconda3/lib/python3.8/site-packages/torch/autograd/__init__.py\u001b[0m in \u001b[0;36mbackward\u001b[0;34m(tensors, grad_tensors, retain_graph, create_graph, grad_variables)\u001b[0m\n\u001b[1;32m    128\u001b[0m         \u001b[0mretain_graph\u001b[0m \u001b[0;34m=\u001b[0m \u001b[0mcreate_graph\u001b[0m\u001b[0;34m\u001b[0m\u001b[0;34m\u001b[0m\u001b[0m\n\u001b[1;32m    129\u001b[0m \u001b[0;34m\u001b[0m\u001b[0m\n\u001b[0;32m--> 130\u001b[0;31m     Variable._execution_engine.run_backward(\n\u001b[0m\u001b[1;32m    131\u001b[0m         \u001b[0mtensors\u001b[0m\u001b[0;34m,\u001b[0m \u001b[0mgrad_tensors_\u001b[0m\u001b[0;34m,\u001b[0m \u001b[0mretain_graph\u001b[0m\u001b[0;34m,\u001b[0m \u001b[0mcreate_graph\u001b[0m\u001b[0;34m,\u001b[0m\u001b[0;34m\u001b[0m\u001b[0;34m\u001b[0m\u001b[0m\n\u001b[1;32m    132\u001b[0m         allow_unreachable=True)  # allow_unreachable flag\n",
      "\u001b[0;31mKeyboardInterrupt\u001b[0m: "
     ]
    }
   ],
   "source": [
    "## Call Training\n",
    "train(training_args)"
   ]
  },
  {
   "cell_type": "markdown",
   "metadata": {},
   "source": [
    "## Computing top1 accuracy on dev set with custom code\n",
    "**ACTION REQUIRED:**  \n",
    "Look in the below model_save folder for the model you would like to test the top1 accuracy of. If you want to test the best model encountered in your latest training run above, this will be the most recently edited model, and \"top1\" in the file name should match the max top1 reported in your above training run. Copy and past that file name in the cell below inside `torch.load(...)`"
   ]
  },
  {
   "cell_type": "code",
   "execution_count": 277,
   "metadata": {},
   "outputs": [
    {
     "name": "stdout",
     "output_type": "stream",
     "text": [
      "total 5064\n",
      "-rw-r--r--  1 nicklein  staff   852K Aug 16 19:58 epoch_0_loss_0.9137609601020813_top1_0.5465020576131687.pth\n",
      "-rw-r--r--  1 nicklein  staff   852K Aug 16 18:52 epoch_0_loss_0.9773046374320984_top1_0.461864406779661.pth\n",
      "-rw-r--r--  1 nicklein  staff   828K Aug 17 18:37 epoch_0_loss_0.9942958950996399_top1_0.3004115226337449.pth\n"
     ]
    }
   ],
   "source": [
    "!ls -lh {model_save_path}"
   ]
  },
  {
   "cell_type": "code",
   "execution_count": 278,
   "metadata": {},
   "outputs": [
    {
     "name": "stdout",
     "output_type": "stream",
     "text": [
      "39759273_0_1427898308030295194.csv\n",
      "45073662_0_3179937335063201739.csv\n",
      "29414811_2_4773219892816395776.csv\n",
      "84575189_0_6365692015941409487.csv\n",
      "14380604_4_3329235705746762392.csv\n",
      "50270082_0_444360818941411589.csv\n",
      "28086084_0_3127660530989916727.csv\n",
      "14067031_0_559833072073397908.csv\n"
     ]
    }
   ],
   "source": [
    "# model = TheModelClass(*args, **kwargs)\n",
    "if torch.cuda.is_available():\n",
    "    device = torch.device('cuda')\n",
    "else:\n",
    "    device = torch.device('cpu')\n",
    "model = PairwiseNetwork(len(train_features)).to(device=device)\n",
    "\n",
    "model.load_state_dict(torch.load(\"{}/epoch_0_loss_0.9942958950996399_top1_0.3004115226337449.pth\".format(model_save_path)))\n",
    "model.eval()\n",
    "infer_scores(min_max_scaler_path, dev_path, dev_output_predictions, model)\n"
   ]
  },
  {
   "cell_type": "code",
   "execution_count": 289,
   "metadata": {},
   "outputs": [
    {
     "name": "stderr",
     "output_type": "stream",
     "text": [
      "100%|██████████| 8/8 [00:26<00:00,  3.36s/it]"
     ]
    },
    {
     "name": "stdout",
     "output_type": "stream",
     "text": [
      "table                  top1 acc accounting for ties    top 1 acc ignoring ties\n",
      "-------------------  ------------------------------  -------------------------\n",
      "Countries II                                  0                          0\n",
      "Companies                                     0                          0\n",
      "Religious People                              0.009                      0.009\n",
      "Video Games                                   0                          0\n",
      "Movies                                        0.19                       0.19\n",
      "Baseball Players I                            0                          0\n",
      "Baseball Players II                           0.024                      0.024\n",
      "Journals/Magazines                            0.01                       0.01\n",
      "Avg                                           0.029                      0.029\n"
     ]
    },
    {
     "name": "stderr",
     "output_type": "stream",
     "text": [
      "\n"
     ]
    }
   ],
   "source": [
    "from sklearn.metrics import f1_score\n",
    "from tabulate import tabulate\n",
    "def choose_best_candidates_from_scores(scores):\n",
    "    choices = []\n",
    "    for cell_candidate_scores in scores:\n",
    "        # we need to break ties randomly since the input data may not be formatted randomly\n",
    "        # This is specifically the case with the 'chiefs' data - first row of each cell is the GT\n",
    "        max_score = max(cell_candidate_scores.values())\n",
    "        choices.append(random.choice([candidate for candidate, score in cell_candidate_scores.items() if score == max_score]))\n",
    "    return choices\n",
    "\n",
    "\n",
    "num_trials = 10\n",
    "file_to_description = {\"14380604_4_3329235705746762392.csv\" : \"Companies\",\n",
    "               \"29414811_2_4773219892816395776.csv\" : \"Video Games\",\n",
    "               \"45073662_0_3179937335063201739.csv\" : \"Baseball Players I\",\n",
    "               \"50270082_0_444360818941411589.csv\" : \"Baseball Players II\",\n",
    "               \"52299421_0_4473286348258170200.csv\" : \"Countries I\",\n",
    "               \"14067031_0_559833072073397908.csv\" : \"Countries II\",\n",
    "               \"39759273_0_1427898308030295194.csv\" : \"Movies\",\n",
    "               \"84575189_0_6365692015941409487.csv\" : \"Journals/Magazines\",\n",
    "               \"28086084_0_3127660530989916727.csv\" : \"Religious People\"    \n",
    "              }\n",
    "headers = [\"table\", \"top1 acc accounting for ties\", \"top 1 acc ignoring ties\"]\n",
    "rows = []\n",
    "for file in tqdm(sorted(glob.glob(f'{working_path}/dev_predictions/*.csv'))):\n",
    "# file = \"/data02/profiling/contrastive_loss_nn_w_embedding_scores/dev_predictions/14067031_0_559833072073397908.csv\"\n",
    "\n",
    "    file_name = file.split('/')[-1]\n",
    "    file_desc = file_to_description[file_name]\n",
    "    \n",
    "    df = pd.read_csv(file)\n",
    "\n",
    "    scores = df.groupby('row').apply(lambda g: {g.iloc[i]['kg_id'] : g.iloc[i]['siamese_pred'] for i in range(len(g))}).to_list()\n",
    "    cells = df.groupby(\"row\")[\"kg_id\"].apply(list).to_list()\n",
    "    cells_gt = [l[0] for l in df.groupby(\"row\")[\"GT_kg_id\"].apply(list).to_list()]\n",
    "\n",
    "#     avg_f1=0\n",
    "#     for i in range(num_trials):\n",
    "#         choices = choose_best_candidates_from_scores(scores)\n",
    "#         avg_f1 += f1_score(choices, cells_gt, average=\"micro\")\n",
    "#     avg_f1 /= num_trials\n",
    "    \n",
    "    top1_acc = 0\n",
    "    top1_acc_ignore_ties = 0\n",
    "    num_no_ties_correct = 0\n",
    "    num_no_ties = 0\n",
    "    for row in range(len(cells_gt)):\n",
    "        gt = cells_gt[row]\n",
    "        if gt in scores[row] and (scores[row][gt] == max(scores[row].values())):\n",
    "            num_cands_tied = len([1 for val in scores[row].values() if val==max(scores[row].values())])\n",
    "            top1_acc += (1 / num_cands_tied)\n",
    "            top1_acc_ignore_ties += 1\n",
    "    top1_acc /= len(cells_gt)\n",
    "    top1_acc_ignore_ties /= len(cells_gt)\n",
    "    \n",
    "    row = [file_desc, top1_acc, top1_acc_ignore_ties]\n",
    "    rows.append(row)\n",
    "    \n",
    "avg_row_scores = [0,0]\n",
    "for row in rows:\n",
    "    for i in range(len(avg_row_scores)):\n",
    "        avg_row_scores[i] += row[i+1]\n",
    "avg_row_scores = [score / len(rows) for score in avg_row_scores]\n",
    "rows.append([\"Avg\"] + avg_row_scores)\n",
    "\n",
    "rows = [[\"{:.3f}\".format(row[i]) if i > 0 else row[i] for i in range(len(row))] for row in rows]\n",
    "\n",
    "print(tabulate(rows, headers=headers))"
   ]
  },
  {
   "cell_type": "code",
   "execution_count": null,
   "metadata": {},
   "outputs": [],
   "source": []
  }
 ],
 "metadata": {
  "kernelspec": {
   "display_name": "Python 3",
   "language": "python",
   "name": "python3"
  },
  "language_info": {
   "codemirror_mode": {
    "name": "ipython",
    "version": 3
   },
   "file_extension": ".py",
   "mimetype": "text/x-python",
   "name": "python",
   "nbconvert_exporter": "python",
   "pygments_lexer": "ipython3",
   "version": "3.8.3"
  }
 },
 "nbformat": 4,
 "nbformat_minor": 5
}
